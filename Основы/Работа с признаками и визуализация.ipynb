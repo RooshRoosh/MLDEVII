{
 "cells": [
  {
   "cell_type": "code",
   "execution_count": 1,
   "metadata": {
    "collapsed": true
   },
   "outputs": [],
   "source": [
    "import pandas as pd"
   ]
  },
  {
   "cell_type": "code",
   "execution_count": 5,
   "metadata": {
    "collapsed": false
   },
   "outputs": [],
   "source": [
    "train_data = pd.read_csv('MLDEV2/train.csv',index_col=0)"
   ]
  },
  {
   "cell_type": "code",
   "execution_count": 145,
   "metadata": {
    "collapsed": false
   },
   "outputs": [],
   "source": [
    "# train_data"
   ]
  },
  {
   "cell_type": "code",
   "execution_count": 10,
   "metadata": {
    "collapsed": false
   },
   "outputs": [
    {
     "name": "stdout",
     "output_type": "stream",
     "text": [
      "[0.1, 0.2, 0.3, 0.4, 0.5, 0.6, 0.7, 0.8, 0.9, 1.0]\n"
     ]
    }
   ],
   "source": [
    "percentiles = [i/10 for i in range(1,11)]\n",
    "print(percentiles)"
   ]
  },
  {
   "cell_type": "code",
   "execution_count": 11,
   "metadata": {
    "collapsed": false
   },
   "outputs": [
    {
     "data": {
      "text/html": [
       "<div>\n",
       "<style scoped>\n",
       "    .dataframe tbody tr th:only-of-type {\n",
       "        vertical-align: middle;\n",
       "    }\n",
       "\n",
       "    .dataframe tbody tr th {\n",
       "        vertical-align: top;\n",
       "    }\n",
       "\n",
       "    .dataframe thead th {\n",
       "        text-align: right;\n",
       "    }\n",
       "</style>\n",
       "<table border=\"1\" class=\"dataframe\">\n",
       "  <thead>\n",
       "    <tr style=\"text-align: right;\">\n",
       "      <th></th>\n",
       "      <th>l0</th>\n",
       "      <th>l1</th>\n",
       "      <th>l2</th>\n",
       "      <th>l3</th>\n",
       "      <th>l4</th>\n",
       "      <th>l5</th>\n",
       "      <th>l6</th>\n",
       "      <th>l7</th>\n",
       "      <th>y</th>\n",
       "    </tr>\n",
       "  </thead>\n",
       "  <tbody>\n",
       "    <tr>\n",
       "      <th>count</th>\n",
       "      <td>4500.000000</td>\n",
       "      <td>4500.000000</td>\n",
       "      <td>4500.000000</td>\n",
       "      <td>4500.000000</td>\n",
       "      <td>4500.000000</td>\n",
       "      <td>4500.000000</td>\n",
       "      <td>4500.000000</td>\n",
       "      <td>4500.000000</td>\n",
       "      <td>4500.000000</td>\n",
       "    </tr>\n",
       "    <tr>\n",
       "      <th>mean</th>\n",
       "      <td>-0.008052</td>\n",
       "      <td>-0.009104</td>\n",
       "      <td>3.871432</td>\n",
       "      <td>3.542939</td>\n",
       "      <td>8.533890</td>\n",
       "      <td>4.339675</td>\n",
       "      <td>3.405829</td>\n",
       "      <td>3.169633</td>\n",
       "      <td>1.500222</td>\n",
       "    </tr>\n",
       "    <tr>\n",
       "      <th>std</th>\n",
       "      <td>0.834134</td>\n",
       "      <td>0.836077</td>\n",
       "      <td>45.683718</td>\n",
       "      <td>54.873959</td>\n",
       "      <td>242.452595</td>\n",
       "      <td>83.840217</td>\n",
       "      <td>36.679654</td>\n",
       "      <td>34.586653</td>\n",
       "      <td>1.115172</td>\n",
       "    </tr>\n",
       "    <tr>\n",
       "      <th>min</th>\n",
       "      <td>-4.292061</td>\n",
       "      <td>-3.152514</td>\n",
       "      <td>-3.625150</td>\n",
       "      <td>-4.712689</td>\n",
       "      <td>-8.022797</td>\n",
       "      <td>-4.653805</td>\n",
       "      <td>-4.071709</td>\n",
       "      <td>-5.388284</td>\n",
       "      <td>0.000000</td>\n",
       "    </tr>\n",
       "    <tr>\n",
       "      <th>10%</th>\n",
       "      <td>-0.977924</td>\n",
       "      <td>-0.981573</td>\n",
       "      <td>-0.875743</td>\n",
       "      <td>-0.877167</td>\n",
       "      <td>-1.678307</td>\n",
       "      <td>-1.345119</td>\n",
       "      <td>-1.312804</td>\n",
       "      <td>-1.539276</td>\n",
       "      <td>0.000000</td>\n",
       "    </tr>\n",
       "    <tr>\n",
       "      <th>20%</th>\n",
       "      <td>-0.754251</td>\n",
       "      <td>-0.748666</td>\n",
       "      <td>-0.299888</td>\n",
       "      <td>0.044087</td>\n",
       "      <td>-0.366669</td>\n",
       "      <td>-0.397155</td>\n",
       "      <td>-0.642206</td>\n",
       "      <td>-0.866359</td>\n",
       "      <td>0.000000</td>\n",
       "    </tr>\n",
       "    <tr>\n",
       "      <th>30%</th>\n",
       "      <td>-0.532043</td>\n",
       "      <td>-0.523943</td>\n",
       "      <td>0.054195</td>\n",
       "      <td>0.247132</td>\n",
       "      <td>0.096982</td>\n",
       "      <td>0.102122</td>\n",
       "      <td>0.051496</td>\n",
       "      <td>-0.112636</td>\n",
       "      <td>1.000000</td>\n",
       "    </tr>\n",
       "    <tr>\n",
       "      <th>40%</th>\n",
       "      <td>-0.278362</td>\n",
       "      <td>-0.257177</td>\n",
       "      <td>0.243168</td>\n",
       "      <td>0.489014</td>\n",
       "      <td>0.301053</td>\n",
       "      <td>0.316885</td>\n",
       "      <td>0.256617</td>\n",
       "      <td>0.164668</td>\n",
       "      <td>1.000000</td>\n",
       "    </tr>\n",
       "    <tr>\n",
       "      <th>50%</th>\n",
       "      <td>-0.004189</td>\n",
       "      <td>-0.011871</td>\n",
       "      <td>0.451475</td>\n",
       "      <td>0.759232</td>\n",
       "      <td>0.563555</td>\n",
       "      <td>0.625490</td>\n",
       "      <td>0.541586</td>\n",
       "      <td>0.393503</td>\n",
       "      <td>1.000000</td>\n",
       "    </tr>\n",
       "    <tr>\n",
       "      <th>60%</th>\n",
       "      <td>0.256581</td>\n",
       "      <td>0.252745</td>\n",
       "      <td>0.771697</td>\n",
       "      <td>1.082262</td>\n",
       "      <td>0.904948</td>\n",
       "      <td>0.956158</td>\n",
       "      <td>0.934949</td>\n",
       "      <td>0.735834</td>\n",
       "      <td>2.000000</td>\n",
       "    </tr>\n",
       "    <tr>\n",
       "      <th>70%</th>\n",
       "      <td>0.507627</td>\n",
       "      <td>0.505260</td>\n",
       "      <td>1.147951</td>\n",
       "      <td>1.452468</td>\n",
       "      <td>1.434489</td>\n",
       "      <td>1.332489</td>\n",
       "      <td>1.515192</td>\n",
       "      <td>1.190081</td>\n",
       "      <td>2.000000</td>\n",
       "    </tr>\n",
       "    <tr>\n",
       "      <th>80%</th>\n",
       "      <td>0.738783</td>\n",
       "      <td>0.736446</td>\n",
       "      <td>1.829034</td>\n",
       "      <td>2.101493</td>\n",
       "      <td>2.201773</td>\n",
       "      <td>2.000438</td>\n",
       "      <td>2.385694</td>\n",
       "      <td>1.886956</td>\n",
       "      <td>3.000000</td>\n",
       "    </tr>\n",
       "    <tr>\n",
       "      <th>90%</th>\n",
       "      <td>0.961730</td>\n",
       "      <td>0.961100</td>\n",
       "      <td>4.049653</td>\n",
       "      <td>3.879740</td>\n",
       "      <td>4.525847</td>\n",
       "      <td>4.067210</td>\n",
       "      <td>4.516367</td>\n",
       "      <td>3.890521</td>\n",
       "      <td>3.000000</td>\n",
       "    </tr>\n",
       "    <tr>\n",
       "      <th>100%</th>\n",
       "      <td>3.657206</td>\n",
       "      <td>3.267110</td>\n",
       "      <td>2253.329592</td>\n",
       "      <td>2815.444726</td>\n",
       "      <td>15459.047782</td>\n",
       "      <td>5442.695002</td>\n",
       "      <td>1935.040403</td>\n",
       "      <td>1539.971161</td>\n",
       "      <td>3.000000</td>\n",
       "    </tr>\n",
       "    <tr>\n",
       "      <th>max</th>\n",
       "      <td>3.657206</td>\n",
       "      <td>3.267110</td>\n",
       "      <td>2253.329592</td>\n",
       "      <td>2815.444726</td>\n",
       "      <td>15459.047782</td>\n",
       "      <td>5442.695002</td>\n",
       "      <td>1935.040403</td>\n",
       "      <td>1539.971161</td>\n",
       "      <td>3.000000</td>\n",
       "    </tr>\n",
       "  </tbody>\n",
       "</table>\n",
       "</div>"
      ],
      "text/plain": [
       "                l0           l1           l2           l3            l4  \\\n",
       "count  4500.000000  4500.000000  4500.000000  4500.000000   4500.000000   \n",
       "mean     -0.008052    -0.009104     3.871432     3.542939      8.533890   \n",
       "std       0.834134     0.836077    45.683718    54.873959    242.452595   \n",
       "min      -4.292061    -3.152514    -3.625150    -4.712689     -8.022797   \n",
       "10%      -0.977924    -0.981573    -0.875743    -0.877167     -1.678307   \n",
       "20%      -0.754251    -0.748666    -0.299888     0.044087     -0.366669   \n",
       "30%      -0.532043    -0.523943     0.054195     0.247132      0.096982   \n",
       "40%      -0.278362    -0.257177     0.243168     0.489014      0.301053   \n",
       "50%      -0.004189    -0.011871     0.451475     0.759232      0.563555   \n",
       "60%       0.256581     0.252745     0.771697     1.082262      0.904948   \n",
       "70%       0.507627     0.505260     1.147951     1.452468      1.434489   \n",
       "80%       0.738783     0.736446     1.829034     2.101493      2.201773   \n",
       "90%       0.961730     0.961100     4.049653     3.879740      4.525847   \n",
       "100%      3.657206     3.267110  2253.329592  2815.444726  15459.047782   \n",
       "max       3.657206     3.267110  2253.329592  2815.444726  15459.047782   \n",
       "\n",
       "                l5           l6           l7            y  \n",
       "count  4500.000000  4500.000000  4500.000000  4500.000000  \n",
       "mean      4.339675     3.405829     3.169633     1.500222  \n",
       "std      83.840217    36.679654    34.586653     1.115172  \n",
       "min      -4.653805    -4.071709    -5.388284     0.000000  \n",
       "10%      -1.345119    -1.312804    -1.539276     0.000000  \n",
       "20%      -0.397155    -0.642206    -0.866359     0.000000  \n",
       "30%       0.102122     0.051496    -0.112636     1.000000  \n",
       "40%       0.316885     0.256617     0.164668     1.000000  \n",
       "50%       0.625490     0.541586     0.393503     1.000000  \n",
       "60%       0.956158     0.934949     0.735834     2.000000  \n",
       "70%       1.332489     1.515192     1.190081     2.000000  \n",
       "80%       2.000438     2.385694     1.886956     3.000000  \n",
       "90%       4.067210     4.516367     3.890521     3.000000  \n",
       "100%   5442.695002  1935.040403  1539.971161     3.000000  \n",
       "max    5442.695002  1935.040403  1539.971161     3.000000  "
      ]
     },
     "execution_count": 11,
     "metadata": {},
     "output_type": "execute_result"
    }
   ],
   "source": [
    "train_data.describe(percentiles=percentiles)"
   ]
  },
  {
   "cell_type": "code",
   "execution_count": 25,
   "metadata": {
    "collapsed": false
   },
   "outputs": [
    {
     "data": {
      "text/html": [
       "<div>\n",
       "<style scoped>\n",
       "    .dataframe tbody tr th:only-of-type {\n",
       "        vertical-align: middle;\n",
       "    }\n",
       "\n",
       "    .dataframe tbody tr th {\n",
       "        vertical-align: top;\n",
       "    }\n",
       "\n",
       "    .dataframe thead th {\n",
       "        text-align: right;\n",
       "    }\n",
       "</style>\n",
       "<table border=\"1\" class=\"dataframe\">\n",
       "  <thead>\n",
       "    <tr style=\"text-align: right;\">\n",
       "      <th></th>\n",
       "      <th>l0</th>\n",
       "      <th>l1</th>\n",
       "      <th>l2</th>\n",
       "      <th>l3</th>\n",
       "      <th>l4</th>\n",
       "      <th>l5</th>\n",
       "      <th>l6</th>\n",
       "      <th>l7</th>\n",
       "    </tr>\n",
       "    <tr>\n",
       "      <th>y</th>\n",
       "      <th></th>\n",
       "      <th></th>\n",
       "      <th></th>\n",
       "      <th></th>\n",
       "      <th></th>\n",
       "      <th></th>\n",
       "      <th></th>\n",
       "      <th></th>\n",
       "    </tr>\n",
       "  </thead>\n",
       "  <tbody>\n",
       "    <tr>\n",
       "      <th>0</th>\n",
       "      <td>1109</td>\n",
       "      <td>1109</td>\n",
       "      <td>1109</td>\n",
       "      <td>1109</td>\n",
       "      <td>1109</td>\n",
       "      <td>1109</td>\n",
       "      <td>1109</td>\n",
       "      <td>1109</td>\n",
       "    </tr>\n",
       "    <tr>\n",
       "      <th>1</th>\n",
       "      <td>1157</td>\n",
       "      <td>1157</td>\n",
       "      <td>1157</td>\n",
       "      <td>1157</td>\n",
       "      <td>1157</td>\n",
       "      <td>1157</td>\n",
       "      <td>1157</td>\n",
       "      <td>1157</td>\n",
       "    </tr>\n",
       "    <tr>\n",
       "      <th>2</th>\n",
       "      <td>1108</td>\n",
       "      <td>1108</td>\n",
       "      <td>1108</td>\n",
       "      <td>1108</td>\n",
       "      <td>1108</td>\n",
       "      <td>1108</td>\n",
       "      <td>1108</td>\n",
       "      <td>1108</td>\n",
       "    </tr>\n",
       "    <tr>\n",
       "      <th>3</th>\n",
       "      <td>1126</td>\n",
       "      <td>1126</td>\n",
       "      <td>1126</td>\n",
       "      <td>1126</td>\n",
       "      <td>1126</td>\n",
       "      <td>1126</td>\n",
       "      <td>1126</td>\n",
       "      <td>1126</td>\n",
       "    </tr>\n",
       "  </tbody>\n",
       "</table>\n",
       "</div>"
      ],
      "text/plain": [
       "     l0    l1    l2    l3    l4    l5    l6    l7\n",
       "y                                                \n",
       "0  1109  1109  1109  1109  1109  1109  1109  1109\n",
       "1  1157  1157  1157  1157  1157  1157  1157  1157\n",
       "2  1108  1108  1108  1108  1108  1108  1108  1108\n",
       "3  1126  1126  1126  1126  1126  1126  1126  1126"
      ]
     },
     "execution_count": 25,
     "metadata": {},
     "output_type": "execute_result"
    }
   ],
   "source": [
    "train_data.groupby('y').count()"
   ]
  },
  {
   "cell_type": "code",
   "execution_count": 15,
   "metadata": {
    "collapsed": false
   },
   "outputs": [
    {
     "data": {
      "text/html": [
       "<div>\n",
       "<style scoped>\n",
       "    .dataframe tbody tr th:only-of-type {\n",
       "        vertical-align: middle;\n",
       "    }\n",
       "\n",
       "    .dataframe tbody tr th {\n",
       "        vertical-align: top;\n",
       "    }\n",
       "\n",
       "    .dataframe thead th {\n",
       "        text-align: right;\n",
       "    }\n",
       "</style>\n",
       "<table border=\"1\" class=\"dataframe\">\n",
       "  <thead>\n",
       "    <tr style=\"text-align: right;\">\n",
       "      <th></th>\n",
       "      <th>l0</th>\n",
       "      <th>l1</th>\n",
       "      <th>l2</th>\n",
       "      <th>l3</th>\n",
       "      <th>l4</th>\n",
       "      <th>l5</th>\n",
       "      <th>l6</th>\n",
       "      <th>l7</th>\n",
       "    </tr>\n",
       "    <tr>\n",
       "      <th>y</th>\n",
       "      <th></th>\n",
       "      <th></th>\n",
       "      <th></th>\n",
       "      <th></th>\n",
       "      <th></th>\n",
       "      <th></th>\n",
       "      <th></th>\n",
       "      <th></th>\n",
       "    </tr>\n",
       "  </thead>\n",
       "  <tbody>\n",
       "    <tr>\n",
       "      <th>0</th>\n",
       "      <td>-0.019433</td>\n",
       "      <td>0.012102</td>\n",
       "      <td>6.623750</td>\n",
       "      <td>7.538683</td>\n",
       "      <td>26.423463</td>\n",
       "      <td>11.701226</td>\n",
       "      <td>5.995571</td>\n",
       "      <td>4.751918</td>\n",
       "    </tr>\n",
       "    <tr>\n",
       "      <th>1</th>\n",
       "      <td>-0.002896</td>\n",
       "      <td>-0.009317</td>\n",
       "      <td>8.792132</td>\n",
       "      <td>5.881700</td>\n",
       "      <td>8.249130</td>\n",
       "      <td>5.677305</td>\n",
       "      <td>7.342955</td>\n",
       "      <td>8.497181</td>\n",
       "    </tr>\n",
       "    <tr>\n",
       "      <th>2</th>\n",
       "      <td>0.004380</td>\n",
       "      <td>-0.012549</td>\n",
       "      <td>-0.059807</td>\n",
       "      <td>-0.306520</td>\n",
       "      <td>0.627460</td>\n",
       "      <td>0.319917</td>\n",
       "      <td>-0.607582</td>\n",
       "      <td>-0.349400</td>\n",
       "    </tr>\n",
       "    <tr>\n",
       "      <th>3</th>\n",
       "      <td>-0.014375</td>\n",
       "      <td>-0.026379</td>\n",
       "      <td>-0.027111</td>\n",
       "      <td>0.992292</td>\n",
       "      <td>-1.012953</td>\n",
       "      <td>-0.329692</td>\n",
       "      <td>0.758921</td>\n",
       "      <td>-0.400204</td>\n",
       "    </tr>\n",
       "  </tbody>\n",
       "</table>\n",
       "</div>"
      ],
      "text/plain": [
       "         l0        l1        l2        l3         l4         l5        l6  \\\n",
       "y                                                                           \n",
       "0 -0.019433  0.012102  6.623750  7.538683  26.423463  11.701226  5.995571   \n",
       "1 -0.002896 -0.009317  8.792132  5.881700   8.249130   5.677305  7.342955   \n",
       "2  0.004380 -0.012549 -0.059807 -0.306520   0.627460   0.319917 -0.607582   \n",
       "3 -0.014375 -0.026379 -0.027111  0.992292  -1.012953  -0.329692  0.758921   \n",
       "\n",
       "         l7  \n",
       "y            \n",
       "0  4.751918  \n",
       "1  8.497181  \n",
       "2 -0.349400  \n",
       "3 -0.400204  "
      ]
     },
     "execution_count": 15,
     "metadata": {},
     "output_type": "execute_result"
    }
   ],
   "source": [
    "train_data.groupby('y').mean()"
   ]
  },
  {
   "cell_type": "code",
   "execution_count": 18,
   "metadata": {
    "collapsed": false
   },
   "outputs": [
    {
     "data": {
      "text/html": [
       "<div>\n",
       "<style scoped>\n",
       "    .dataframe tbody tr th:only-of-type {\n",
       "        vertical-align: middle;\n",
       "    }\n",
       "\n",
       "    .dataframe tbody tr th {\n",
       "        vertical-align: top;\n",
       "    }\n",
       "\n",
       "    .dataframe thead th {\n",
       "        text-align: right;\n",
       "    }\n",
       "</style>\n",
       "<table border=\"1\" class=\"dataframe\">\n",
       "  <thead>\n",
       "    <tr style=\"text-align: right;\">\n",
       "      <th></th>\n",
       "      <th>l0</th>\n",
       "      <th>l1</th>\n",
       "      <th>l2</th>\n",
       "      <th>l3</th>\n",
       "      <th>l4</th>\n",
       "      <th>l5</th>\n",
       "      <th>l6</th>\n",
       "      <th>l7</th>\n",
       "    </tr>\n",
       "    <tr>\n",
       "      <th>y</th>\n",
       "      <th></th>\n",
       "      <th></th>\n",
       "      <th></th>\n",
       "      <th></th>\n",
       "      <th></th>\n",
       "      <th></th>\n",
       "      <th></th>\n",
       "      <th></th>\n",
       "    </tr>\n",
       "  </thead>\n",
       "  <tbody>\n",
       "    <tr>\n",
       "      <th>0</th>\n",
       "      <td>0.712945</td>\n",
       "      <td>0.701490</td>\n",
       "      <td>43.229827</td>\n",
       "      <td>90.642935</td>\n",
       "      <td>485.956984</td>\n",
       "      <td>167.320092</td>\n",
       "      <td>39.927278</td>\n",
       "      <td>15.740449</td>\n",
       "    </tr>\n",
       "    <tr>\n",
       "      <th>1</th>\n",
       "      <td>0.564369</td>\n",
       "      <td>0.567403</td>\n",
       "      <td>79.171232</td>\n",
       "      <td>61.643872</td>\n",
       "      <td>44.352791</td>\n",
       "      <td>20.705478</td>\n",
       "      <td>60.491233</td>\n",
       "      <td>66.025210</td>\n",
       "    </tr>\n",
       "    <tr>\n",
       "      <th>2</th>\n",
       "      <td>1.007119</td>\n",
       "      <td>0.979515</td>\n",
       "      <td>1.015585</td>\n",
       "      <td>1.312184</td>\n",
       "      <td>1.494946</td>\n",
       "      <td>1.498803</td>\n",
       "      <td>1.510006</td>\n",
       "      <td>1.233996</td>\n",
       "    </tr>\n",
       "    <tr>\n",
       "      <th>3</th>\n",
       "      <td>0.977852</td>\n",
       "      <td>1.017428</td>\n",
       "      <td>0.976206</td>\n",
       "      <td>1.049100</td>\n",
       "      <td>1.794053</td>\n",
       "      <td>1.333344</td>\n",
       "      <td>1.612807</td>\n",
       "      <td>1.518264</td>\n",
       "    </tr>\n",
       "  </tbody>\n",
       "</table>\n",
       "</div>"
      ],
      "text/plain": [
       "         l0        l1         l2         l3          l4          l5  \\\n",
       "y                                                                     \n",
       "0  0.712945  0.701490  43.229827  90.642935  485.956984  167.320092   \n",
       "1  0.564369  0.567403  79.171232  61.643872   44.352791   20.705478   \n",
       "2  1.007119  0.979515   1.015585   1.312184    1.494946    1.498803   \n",
       "3  0.977852  1.017428   0.976206   1.049100    1.794053    1.333344   \n",
       "\n",
       "          l6         l7  \n",
       "y                        \n",
       "0  39.927278  15.740449  \n",
       "1  60.491233  66.025210  \n",
       "2   1.510006   1.233996  \n",
       "3   1.612807   1.518264  "
      ]
     },
     "execution_count": 18,
     "metadata": {},
     "output_type": "execute_result"
    }
   ],
   "source": [
    "train_data.groupby('y').std()"
   ]
  },
  {
   "cell_type": "code",
   "execution_count": 19,
   "metadata": {
    "collapsed": false
   },
   "outputs": [
    {
     "data": {
      "text/html": [
       "<div>\n",
       "<style scoped>\n",
       "    .dataframe tbody tr th:only-of-type {\n",
       "        vertical-align: middle;\n",
       "    }\n",
       "\n",
       "    .dataframe tbody tr th {\n",
       "        vertical-align: top;\n",
       "    }\n",
       "\n",
       "    .dataframe thead tr th {\n",
       "        text-align: left;\n",
       "    }\n",
       "\n",
       "    .dataframe thead tr:last-of-type th {\n",
       "        text-align: right;\n",
       "    }\n",
       "</style>\n",
       "<table border=\"1\" class=\"dataframe\">\n",
       "  <thead>\n",
       "    <tr>\n",
       "      <th></th>\n",
       "      <th colspan=\"8\" halign=\"left\">l0</th>\n",
       "      <th colspan=\"2\" halign=\"left\">l1</th>\n",
       "      <th>...</th>\n",
       "      <th colspan=\"2\" halign=\"left\">l6</th>\n",
       "      <th colspan=\"8\" halign=\"left\">l7</th>\n",
       "    </tr>\n",
       "    <tr>\n",
       "      <th></th>\n",
       "      <th>count</th>\n",
       "      <th>mean</th>\n",
       "      <th>std</th>\n",
       "      <th>min</th>\n",
       "      <th>25%</th>\n",
       "      <th>50%</th>\n",
       "      <th>75%</th>\n",
       "      <th>max</th>\n",
       "      <th>count</th>\n",
       "      <th>mean</th>\n",
       "      <th>...</th>\n",
       "      <th>75%</th>\n",
       "      <th>max</th>\n",
       "      <th>count</th>\n",
       "      <th>mean</th>\n",
       "      <th>std</th>\n",
       "      <th>min</th>\n",
       "      <th>25%</th>\n",
       "      <th>50%</th>\n",
       "      <th>75%</th>\n",
       "      <th>max</th>\n",
       "    </tr>\n",
       "    <tr>\n",
       "      <th>y</th>\n",
       "      <th></th>\n",
       "      <th></th>\n",
       "      <th></th>\n",
       "      <th></th>\n",
       "      <th></th>\n",
       "      <th></th>\n",
       "      <th></th>\n",
       "      <th></th>\n",
       "      <th></th>\n",
       "      <th></th>\n",
       "      <th></th>\n",
       "      <th></th>\n",
       "      <th></th>\n",
       "      <th></th>\n",
       "      <th></th>\n",
       "      <th></th>\n",
       "      <th></th>\n",
       "      <th></th>\n",
       "      <th></th>\n",
       "      <th></th>\n",
       "      <th></th>\n",
       "    </tr>\n",
       "  </thead>\n",
       "  <tbody>\n",
       "    <tr>\n",
       "      <th>0</th>\n",
       "      <td>1109.0</td>\n",
       "      <td>-0.019433</td>\n",
       "      <td>0.712945</td>\n",
       "      <td>-0.999965</td>\n",
       "      <td>-0.748724</td>\n",
       "      <td>-2.513010e-02</td>\n",
       "      <td>0.690630</td>\n",
       "      <td>1.000000</td>\n",
       "      <td>1109.0</td>\n",
       "      <td>0.012102</td>\n",
       "      <td>...</td>\n",
       "      <td>3.166762</td>\n",
       "      <td>1160.840761</td>\n",
       "      <td>1109.0</td>\n",
       "      <td>4.751918</td>\n",
       "      <td>15.740449</td>\n",
       "      <td>0.000329</td>\n",
       "      <td>0.350699</td>\n",
       "      <td>1.048186</td>\n",
       "      <td>3.111867</td>\n",
       "      <td>229.656602</td>\n",
       "    </tr>\n",
       "    <tr>\n",
       "      <th>1</th>\n",
       "      <td>1157.0</td>\n",
       "      <td>-0.002896</td>\n",
       "      <td>0.564369</td>\n",
       "      <td>-0.799993</td>\n",
       "      <td>-0.571578</td>\n",
       "      <td>2.266216e-16</td>\n",
       "      <td>0.557332</td>\n",
       "      <td>0.800000</td>\n",
       "      <td>1157.0</td>\n",
       "      <td>-0.009317</td>\n",
       "      <td>...</td>\n",
       "      <td>3.040307</td>\n",
       "      <td>1935.040403</td>\n",
       "      <td>1157.0</td>\n",
       "      <td>8.497181</td>\n",
       "      <td>66.025210</td>\n",
       "      <td>0.000753</td>\n",
       "      <td>0.320881</td>\n",
       "      <td>0.910714</td>\n",
       "      <td>2.777714</td>\n",
       "      <td>1539.971161</td>\n",
       "    </tr>\n",
       "    <tr>\n",
       "      <th>2</th>\n",
       "      <td>1108.0</td>\n",
       "      <td>0.004380</td>\n",
       "      <td>1.007119</td>\n",
       "      <td>-4.292061</td>\n",
       "      <td>-0.648162</td>\n",
       "      <td>1.190969e-02</td>\n",
       "      <td>0.676026</td>\n",
       "      <td>2.972906</td>\n",
       "      <td>1108.0</td>\n",
       "      <td>-0.012549</td>\n",
       "      <td>...</td>\n",
       "      <td>0.081649</td>\n",
       "      <td>5.124309</td>\n",
       "      <td>1108.0</td>\n",
       "      <td>-0.349400</td>\n",
       "      <td>1.233996</td>\n",
       "      <td>-3.449962</td>\n",
       "      <td>-1.235637</td>\n",
       "      <td>-0.549028</td>\n",
       "      <td>0.491432</td>\n",
       "      <td>3.631620</td>\n",
       "    </tr>\n",
       "    <tr>\n",
       "      <th>3</th>\n",
       "      <td>1126.0</td>\n",
       "      <td>-0.014375</td>\n",
       "      <td>0.977852</td>\n",
       "      <td>-3.005928</td>\n",
       "      <td>-0.677643</td>\n",
       "      <td>-2.356981e-02</td>\n",
       "      <td>0.642714</td>\n",
       "      <td>3.657206</td>\n",
       "      <td>1126.0</td>\n",
       "      <td>-0.026379</td>\n",
       "      <td>...</td>\n",
       "      <td>1.671418</td>\n",
       "      <td>8.353842</td>\n",
       "      <td>1126.0</td>\n",
       "      <td>-0.400204</td>\n",
       "      <td>1.518264</td>\n",
       "      <td>-5.388284</td>\n",
       "      <td>-1.514426</td>\n",
       "      <td>-0.435953</td>\n",
       "      <td>0.716343</td>\n",
       "      <td>5.041334</td>\n",
       "    </tr>\n",
       "  </tbody>\n",
       "</table>\n",
       "<p>4 rows × 64 columns</p>\n",
       "</div>"
      ],
      "text/plain": [
       "       l0                                                                  \\\n",
       "    count      mean       std       min       25%           50%       75%   \n",
       "y                                                                           \n",
       "0  1109.0 -0.019433  0.712945 -0.999965 -0.748724 -2.513010e-02  0.690630   \n",
       "1  1157.0 -0.002896  0.564369 -0.799993 -0.571578  2.266216e-16  0.557332   \n",
       "2  1108.0  0.004380  1.007119 -4.292061 -0.648162  1.190969e-02  0.676026   \n",
       "3  1126.0 -0.014375  0.977852 -3.005928 -0.677643 -2.356981e-02  0.642714   \n",
       "\n",
       "                 l1               ...             l6                   l7  \\\n",
       "        max   count      mean     ...            75%          max   count   \n",
       "y                                 ...                                       \n",
       "0  1.000000  1109.0  0.012102     ...       3.166762  1160.840761  1109.0   \n",
       "1  0.800000  1157.0 -0.009317     ...       3.040307  1935.040403  1157.0   \n",
       "2  2.972906  1108.0 -0.012549     ...       0.081649     5.124309  1108.0   \n",
       "3  3.657206  1126.0 -0.026379     ...       1.671418     8.353842  1126.0   \n",
       "\n",
       "                                                                             \n",
       "       mean        std       min       25%       50%       75%          max  \n",
       "y                                                                            \n",
       "0  4.751918  15.740449  0.000329  0.350699  1.048186  3.111867   229.656602  \n",
       "1  8.497181  66.025210  0.000753  0.320881  0.910714  2.777714  1539.971161  \n",
       "2 -0.349400   1.233996 -3.449962 -1.235637 -0.549028  0.491432     3.631620  \n",
       "3 -0.400204   1.518264 -5.388284 -1.514426 -0.435953  0.716343     5.041334  \n",
       "\n",
       "[4 rows x 64 columns]"
      ]
     },
     "execution_count": 19,
     "metadata": {},
     "output_type": "execute_result"
    }
   ],
   "source": [
    "train_data.groupby('y').describe()"
   ]
  },
  {
   "cell_type": "code",
   "execution_count": 20,
   "metadata": {
    "collapsed": false
   },
   "outputs": [
    {
     "data": {
      "text/html": [
       "<div>\n",
       "<style scoped>\n",
       "    .dataframe tbody tr th:only-of-type {\n",
       "        vertical-align: middle;\n",
       "    }\n",
       "\n",
       "    .dataframe tbody tr th {\n",
       "        vertical-align: top;\n",
       "    }\n",
       "\n",
       "    .dataframe thead th {\n",
       "        text-align: right;\n",
       "    }\n",
       "</style>\n",
       "<table border=\"1\" class=\"dataframe\">\n",
       "  <thead>\n",
       "    <tr style=\"text-align: right;\">\n",
       "      <th></th>\n",
       "      <th>count</th>\n",
       "      <th>mean</th>\n",
       "      <th>std</th>\n",
       "      <th>min</th>\n",
       "      <th>25%</th>\n",
       "      <th>50%</th>\n",
       "      <th>75%</th>\n",
       "      <th>max</th>\n",
       "    </tr>\n",
       "    <tr>\n",
       "      <th>y</th>\n",
       "      <th></th>\n",
       "      <th></th>\n",
       "      <th></th>\n",
       "      <th></th>\n",
       "      <th></th>\n",
       "      <th></th>\n",
       "      <th></th>\n",
       "      <th></th>\n",
       "    </tr>\n",
       "  </thead>\n",
       "  <tbody>\n",
       "    <tr>\n",
       "      <th>0</th>\n",
       "      <td>1109.0</td>\n",
       "      <td>-0.019433</td>\n",
       "      <td>0.712945</td>\n",
       "      <td>-0.999965</td>\n",
       "      <td>-0.748724</td>\n",
       "      <td>-2.513010e-02</td>\n",
       "      <td>0.690630</td>\n",
       "      <td>1.000000</td>\n",
       "    </tr>\n",
       "    <tr>\n",
       "      <th>1</th>\n",
       "      <td>1157.0</td>\n",
       "      <td>-0.002896</td>\n",
       "      <td>0.564369</td>\n",
       "      <td>-0.799993</td>\n",
       "      <td>-0.571578</td>\n",
       "      <td>2.266216e-16</td>\n",
       "      <td>0.557332</td>\n",
       "      <td>0.800000</td>\n",
       "    </tr>\n",
       "    <tr>\n",
       "      <th>2</th>\n",
       "      <td>1108.0</td>\n",
       "      <td>0.004380</td>\n",
       "      <td>1.007119</td>\n",
       "      <td>-4.292061</td>\n",
       "      <td>-0.648162</td>\n",
       "      <td>1.190969e-02</td>\n",
       "      <td>0.676026</td>\n",
       "      <td>2.972906</td>\n",
       "    </tr>\n",
       "    <tr>\n",
       "      <th>3</th>\n",
       "      <td>1126.0</td>\n",
       "      <td>-0.014375</td>\n",
       "      <td>0.977852</td>\n",
       "      <td>-3.005928</td>\n",
       "      <td>-0.677643</td>\n",
       "      <td>-2.356981e-02</td>\n",
       "      <td>0.642714</td>\n",
       "      <td>3.657206</td>\n",
       "    </tr>\n",
       "  </tbody>\n",
       "</table>\n",
       "</div>"
      ],
      "text/plain": [
       "    count      mean       std       min       25%           50%       75%  \\\n",
       "y                                                                           \n",
       "0  1109.0 -0.019433  0.712945 -0.999965 -0.748724 -2.513010e-02  0.690630   \n",
       "1  1157.0 -0.002896  0.564369 -0.799993 -0.571578  2.266216e-16  0.557332   \n",
       "2  1108.0  0.004380  1.007119 -4.292061 -0.648162  1.190969e-02  0.676026   \n",
       "3  1126.0 -0.014375  0.977852 -3.005928 -0.677643 -2.356981e-02  0.642714   \n",
       "\n",
       "        max  \n",
       "y            \n",
       "0  1.000000  \n",
       "1  0.800000  \n",
       "2  2.972906  \n",
       "3  3.657206  "
      ]
     },
     "execution_count": 20,
     "metadata": {},
     "output_type": "execute_result"
    }
   ],
   "source": [
    "train_data.groupby('y').describe()['l0']"
   ]
  },
  {
   "cell_type": "code",
   "execution_count": 21,
   "metadata": {
    "collapsed": false
   },
   "outputs": [
    {
     "data": {
      "text/html": [
       "<div>\n",
       "<style scoped>\n",
       "    .dataframe tbody tr th:only-of-type {\n",
       "        vertical-align: middle;\n",
       "    }\n",
       "\n",
       "    .dataframe tbody tr th {\n",
       "        vertical-align: top;\n",
       "    }\n",
       "\n",
       "    .dataframe thead th {\n",
       "        text-align: right;\n",
       "    }\n",
       "</style>\n",
       "<table border=\"1\" class=\"dataframe\">\n",
       "  <thead>\n",
       "    <tr style=\"text-align: right;\">\n",
       "      <th></th>\n",
       "      <th>count</th>\n",
       "      <th>mean</th>\n",
       "      <th>std</th>\n",
       "      <th>min</th>\n",
       "      <th>25%</th>\n",
       "      <th>50%</th>\n",
       "      <th>75%</th>\n",
       "      <th>max</th>\n",
       "    </tr>\n",
       "    <tr>\n",
       "      <th>y</th>\n",
       "      <th></th>\n",
       "      <th></th>\n",
       "      <th></th>\n",
       "      <th></th>\n",
       "      <th></th>\n",
       "      <th></th>\n",
       "      <th></th>\n",
       "      <th></th>\n",
       "    </tr>\n",
       "  </thead>\n",
       "  <tbody>\n",
       "    <tr>\n",
       "      <th>0</th>\n",
       "      <td>1109.0</td>\n",
       "      <td>0.012102</td>\n",
       "      <td>0.701490</td>\n",
       "      <td>-1.000000</td>\n",
       "      <td>-0.672238</td>\n",
       "      <td>0.008377</td>\n",
       "      <td>0.711536</td>\n",
       "      <td>0.999991</td>\n",
       "    </tr>\n",
       "    <tr>\n",
       "      <th>1</th>\n",
       "      <td>1157.0</td>\n",
       "      <td>-0.009317</td>\n",
       "      <td>0.567403</td>\n",
       "      <td>-0.800000</td>\n",
       "      <td>-0.576247</td>\n",
       "      <td>-0.026803</td>\n",
       "      <td>0.557332</td>\n",
       "      <td>0.800000</td>\n",
       "    </tr>\n",
       "    <tr>\n",
       "      <th>2</th>\n",
       "      <td>1108.0</td>\n",
       "      <td>-0.012549</td>\n",
       "      <td>0.979515</td>\n",
       "      <td>-2.712870</td>\n",
       "      <td>-0.657803</td>\n",
       "      <td>-0.003262</td>\n",
       "      <td>0.627378</td>\n",
       "      <td>3.141241</td>\n",
       "    </tr>\n",
       "    <tr>\n",
       "      <th>3</th>\n",
       "      <td>1126.0</td>\n",
       "      <td>-0.026379</td>\n",
       "      <td>1.017428</td>\n",
       "      <td>-3.152514</td>\n",
       "      <td>-0.724785</td>\n",
       "      <td>-0.007387</td>\n",
       "      <td>0.669264</td>\n",
       "      <td>3.267110</td>\n",
       "    </tr>\n",
       "  </tbody>\n",
       "</table>\n",
       "</div>"
      ],
      "text/plain": [
       "    count      mean       std       min       25%       50%       75%  \\\n",
       "y                                                                       \n",
       "0  1109.0  0.012102  0.701490 -1.000000 -0.672238  0.008377  0.711536   \n",
       "1  1157.0 -0.009317  0.567403 -0.800000 -0.576247 -0.026803  0.557332   \n",
       "2  1108.0 -0.012549  0.979515 -2.712870 -0.657803 -0.003262  0.627378   \n",
       "3  1126.0 -0.026379  1.017428 -3.152514 -0.724785 -0.007387  0.669264   \n",
       "\n",
       "        max  \n",
       "y            \n",
       "0  0.999991  \n",
       "1  0.800000  \n",
       "2  3.141241  \n",
       "3  3.267110  "
      ]
     },
     "execution_count": 21,
     "metadata": {},
     "output_type": "execute_result"
    }
   ],
   "source": [
    "train_data.groupby('y').describe()['l1']"
   ]
  },
  {
   "cell_type": "code",
   "execution_count": 22,
   "metadata": {
    "collapsed": false
   },
   "outputs": [
    {
     "data": {
      "text/html": [
       "<div>\n",
       "<style scoped>\n",
       "    .dataframe tbody tr th:only-of-type {\n",
       "        vertical-align: middle;\n",
       "    }\n",
       "\n",
       "    .dataframe tbody tr th {\n",
       "        vertical-align: top;\n",
       "    }\n",
       "\n",
       "    .dataframe thead th {\n",
       "        text-align: right;\n",
       "    }\n",
       "</style>\n",
       "<table border=\"1\" class=\"dataframe\">\n",
       "  <thead>\n",
       "    <tr style=\"text-align: right;\">\n",
       "      <th></th>\n",
       "      <th>count</th>\n",
       "      <th>mean</th>\n",
       "      <th>std</th>\n",
       "      <th>min</th>\n",
       "      <th>25%</th>\n",
       "      <th>50%</th>\n",
       "      <th>75%</th>\n",
       "      <th>max</th>\n",
       "    </tr>\n",
       "    <tr>\n",
       "      <th>y</th>\n",
       "      <th></th>\n",
       "      <th></th>\n",
       "      <th></th>\n",
       "      <th></th>\n",
       "      <th></th>\n",
       "      <th></th>\n",
       "      <th></th>\n",
       "      <th></th>\n",
       "    </tr>\n",
       "  </thead>\n",
       "  <tbody>\n",
       "    <tr>\n",
       "      <th>0</th>\n",
       "      <td>1109.0</td>\n",
       "      <td>6.623750</td>\n",
       "      <td>43.229827</td>\n",
       "      <td>0.000415</td>\n",
       "      <td>0.315258</td>\n",
       "      <td>1.069722</td>\n",
       "      <td>3.171296</td>\n",
       "      <td>1160.160773</td>\n",
       "    </tr>\n",
       "    <tr>\n",
       "      <th>1</th>\n",
       "      <td>1157.0</td>\n",
       "      <td>8.792132</td>\n",
       "      <td>79.171232</td>\n",
       "      <td>0.001722</td>\n",
       "      <td>0.336609</td>\n",
       "      <td>1.007581</td>\n",
       "      <td>3.086963</td>\n",
       "      <td>2253.329592</td>\n",
       "    </tr>\n",
       "    <tr>\n",
       "      <th>2</th>\n",
       "      <td>1108.0</td>\n",
       "      <td>-0.059807</td>\n",
       "      <td>1.015585</td>\n",
       "      <td>-3.625150</td>\n",
       "      <td>-0.721549</td>\n",
       "      <td>-0.062634</td>\n",
       "      <td>0.667884</td>\n",
       "      <td>3.847268</td>\n",
       "    </tr>\n",
       "    <tr>\n",
       "      <th>3</th>\n",
       "      <td>1126.0</td>\n",
       "      <td>-0.027111</td>\n",
       "      <td>0.976206</td>\n",
       "      <td>-3.304651</td>\n",
       "      <td>-0.718724</td>\n",
       "      <td>-0.030583</td>\n",
       "      <td>0.685215</td>\n",
       "      <td>2.667753</td>\n",
       "    </tr>\n",
       "  </tbody>\n",
       "</table>\n",
       "</div>"
      ],
      "text/plain": [
       "    count      mean        std       min       25%       50%       75%  \\\n",
       "y                                                                        \n",
       "0  1109.0  6.623750  43.229827  0.000415  0.315258  1.069722  3.171296   \n",
       "1  1157.0  8.792132  79.171232  0.001722  0.336609  1.007581  3.086963   \n",
       "2  1108.0 -0.059807   1.015585 -3.625150 -0.721549 -0.062634  0.667884   \n",
       "3  1126.0 -0.027111   0.976206 -3.304651 -0.718724 -0.030583  0.685215   \n",
       "\n",
       "           max  \n",
       "y               \n",
       "0  1160.160773  \n",
       "1  2253.329592  \n",
       "2     3.847268  \n",
       "3     2.667753  "
      ]
     },
     "execution_count": 22,
     "metadata": {},
     "output_type": "execute_result"
    }
   ],
   "source": [
    "train_data.groupby('y').describe()['l2']"
   ]
  },
  {
   "cell_type": "code",
   "execution_count": 23,
   "metadata": {
    "collapsed": false
   },
   "outputs": [
    {
     "data": {
      "text/html": [
       "<div>\n",
       "<style scoped>\n",
       "    .dataframe tbody tr th:only-of-type {\n",
       "        vertical-align: middle;\n",
       "    }\n",
       "\n",
       "    .dataframe tbody tr th {\n",
       "        vertical-align: top;\n",
       "    }\n",
       "\n",
       "    .dataframe thead th {\n",
       "        text-align: right;\n",
       "    }\n",
       "</style>\n",
       "<table border=\"1\" class=\"dataframe\">\n",
       "  <thead>\n",
       "    <tr style=\"text-align: right;\">\n",
       "      <th></th>\n",
       "      <th>count</th>\n",
       "      <th>mean</th>\n",
       "      <th>std</th>\n",
       "      <th>min</th>\n",
       "      <th>25%</th>\n",
       "      <th>50%</th>\n",
       "      <th>75%</th>\n",
       "      <th>max</th>\n",
       "    </tr>\n",
       "    <tr>\n",
       "      <th>y</th>\n",
       "      <th></th>\n",
       "      <th></th>\n",
       "      <th></th>\n",
       "      <th></th>\n",
       "      <th></th>\n",
       "      <th></th>\n",
       "      <th></th>\n",
       "      <th></th>\n",
       "    </tr>\n",
       "  </thead>\n",
       "  <tbody>\n",
       "    <tr>\n",
       "      <th>0</th>\n",
       "      <td>1109.0</td>\n",
       "      <td>7.538683</td>\n",
       "      <td>90.642935</td>\n",
       "      <td>0.002043</td>\n",
       "      <td>0.345232</td>\n",
       "      <td>0.969714</td>\n",
       "      <td>2.807306</td>\n",
       "      <td>2815.444726</td>\n",
       "    </tr>\n",
       "    <tr>\n",
       "      <th>1</th>\n",
       "      <td>1157.0</td>\n",
       "      <td>5.881700</td>\n",
       "      <td>61.643872</td>\n",
       "      <td>0.000108</td>\n",
       "      <td>0.342749</td>\n",
       "      <td>1.040274</td>\n",
       "      <td>3.016971</td>\n",
       "      <td>1958.933098</td>\n",
       "    </tr>\n",
       "    <tr>\n",
       "      <th>2</th>\n",
       "      <td>1108.0</td>\n",
       "      <td>-0.306520</td>\n",
       "      <td>1.312184</td>\n",
       "      <td>-4.712689</td>\n",
       "      <td>-1.316959</td>\n",
       "      <td>-0.246183</td>\n",
       "      <td>0.822207</td>\n",
       "      <td>3.001895</td>\n",
       "    </tr>\n",
       "    <tr>\n",
       "      <th>3</th>\n",
       "      <td>1126.0</td>\n",
       "      <td>0.992292</td>\n",
       "      <td>1.049100</td>\n",
       "      <td>-2.377965</td>\n",
       "      <td>0.290234</td>\n",
       "      <td>0.959180</td>\n",
       "      <td>1.697754</td>\n",
       "      <td>4.771585</td>\n",
       "    </tr>\n",
       "  </tbody>\n",
       "</table>\n",
       "</div>"
      ],
      "text/plain": [
       "    count      mean        std       min       25%       50%       75%  \\\n",
       "y                                                                        \n",
       "0  1109.0  7.538683  90.642935  0.002043  0.345232  0.969714  2.807306   \n",
       "1  1157.0  5.881700  61.643872  0.000108  0.342749  1.040274  3.016971   \n",
       "2  1108.0 -0.306520   1.312184 -4.712689 -1.316959 -0.246183  0.822207   \n",
       "3  1126.0  0.992292   1.049100 -2.377965  0.290234  0.959180  1.697754   \n",
       "\n",
       "           max  \n",
       "y               \n",
       "0  2815.444726  \n",
       "1  1958.933098  \n",
       "2     3.001895  \n",
       "3     4.771585  "
      ]
     },
     "execution_count": 23,
     "metadata": {},
     "output_type": "execute_result"
    }
   ],
   "source": [
    "train_data.groupby('y').describe()['l3']"
   ]
  },
  {
   "cell_type": "code",
   "execution_count": 16,
   "metadata": {
    "collapsed": false
   },
   "outputs": [
    {
     "data": {
      "text/html": [
       "<div>\n",
       "<style scoped>\n",
       "    .dataframe tbody tr th:only-of-type {\n",
       "        vertical-align: middle;\n",
       "    }\n",
       "\n",
       "    .dataframe tbody tr th {\n",
       "        vertical-align: top;\n",
       "    }\n",
       "\n",
       "    .dataframe thead th {\n",
       "        text-align: right;\n",
       "    }\n",
       "</style>\n",
       "<table border=\"1\" class=\"dataframe\">\n",
       "  <thead>\n",
       "    <tr style=\"text-align: right;\">\n",
       "      <th></th>\n",
       "      <th>l0</th>\n",
       "      <th>l1</th>\n",
       "      <th>l2</th>\n",
       "      <th>l3</th>\n",
       "      <th>l4</th>\n",
       "      <th>l5</th>\n",
       "      <th>l6</th>\n",
       "      <th>l7</th>\n",
       "    </tr>\n",
       "    <tr>\n",
       "      <th>y</th>\n",
       "      <th></th>\n",
       "      <th></th>\n",
       "      <th></th>\n",
       "      <th></th>\n",
       "      <th></th>\n",
       "      <th></th>\n",
       "      <th></th>\n",
       "      <th></th>\n",
       "    </tr>\n",
       "  </thead>\n",
       "  <tbody>\n",
       "    <tr>\n",
       "      <th>0</th>\n",
       "      <td>1109</td>\n",
       "      <td>1109</td>\n",
       "      <td>1109</td>\n",
       "      <td>1109</td>\n",
       "      <td>1109</td>\n",
       "      <td>1109</td>\n",
       "      <td>1109</td>\n",
       "      <td>1109</td>\n",
       "    </tr>\n",
       "    <tr>\n",
       "      <th>1</th>\n",
       "      <td>1157</td>\n",
       "      <td>1157</td>\n",
       "      <td>1157</td>\n",
       "      <td>1157</td>\n",
       "      <td>1157</td>\n",
       "      <td>1157</td>\n",
       "      <td>1157</td>\n",
       "      <td>1157</td>\n",
       "    </tr>\n",
       "    <tr>\n",
       "      <th>2</th>\n",
       "      <td>1108</td>\n",
       "      <td>1108</td>\n",
       "      <td>1108</td>\n",
       "      <td>1108</td>\n",
       "      <td>1108</td>\n",
       "      <td>1108</td>\n",
       "      <td>1108</td>\n",
       "      <td>1108</td>\n",
       "    </tr>\n",
       "    <tr>\n",
       "      <th>3</th>\n",
       "      <td>1126</td>\n",
       "      <td>1126</td>\n",
       "      <td>1126</td>\n",
       "      <td>1126</td>\n",
       "      <td>1126</td>\n",
       "      <td>1126</td>\n",
       "      <td>1126</td>\n",
       "      <td>1126</td>\n",
       "    </tr>\n",
       "  </tbody>\n",
       "</table>\n",
       "</div>"
      ],
      "text/plain": [
       "     l0    l1    l2    l3    l4    l5    l6    l7\n",
       "y                                                \n",
       "0  1109  1109  1109  1109  1109  1109  1109  1109\n",
       "1  1157  1157  1157  1157  1157  1157  1157  1157\n",
       "2  1108  1108  1108  1108  1108  1108  1108  1108\n",
       "3  1126  1126  1126  1126  1126  1126  1126  1126"
      ]
     },
     "execution_count": 16,
     "metadata": {},
     "output_type": "execute_result"
    }
   ],
   "source": []
  },
  {
   "cell_type": "code",
   "execution_count": null,
   "metadata": {
    "collapsed": false
   },
   "outputs": [],
   "source": []
  },
  {
   "cell_type": "code",
   "execution_count": 27,
   "metadata": {
    "collapsed": true
   },
   "outputs": [],
   "source": [
    "import numpy as np\n",
    "import matplotlib.pyplot as plt"
   ]
  },
  {
   "cell_type": "code",
   "execution_count": 78,
   "metadata": {
    "collapsed": false
   },
   "outputs": [],
   "source": [
    "X = train_data[['l0','l1','l3','l4','l5','l6','l7']].values\n",
    "Y = train_data[['y']].values.reshape(-1)"
   ]
  },
  {
   "cell_type": "code",
   "execution_count": 147,
   "metadata": {
    "collapsed": false
   },
   "outputs": [
    {
     "data": {
      "text/plain": [
       "(4500, 7)"
      ]
     },
     "execution_count": 147,
     "metadata": {},
     "output_type": "execute_result"
    }
   ],
   "source": [
    "X.shape"
   ]
  },
  {
   "cell_type": "code",
   "execution_count": 166,
   "metadata": {
    "collapsed": false
   },
   "outputs": [],
   "source": [
    "plt.figure(figsize=(24,20))\n",
    "plt.scatter(X[:,2], X[:,1], c=Y, alpha=0.2, s=100)\n",
    "plt.show()"
   ]
  },
  {
   "cell_type": "code",
   "execution_count": 167,
   "metadata": {
    "collapsed": false
   },
   "outputs": [],
   "source": [
    "# Убираем объекты со значеним признака меньше 5\n",
    "plt.figure(figsize=(24,20))\n",
    "plt.scatter(X[X[:,2]<5][:,2], X[X[:,2]<5][:,1], c=Y[X[:,2]<5], alpha=0.2, s=100)\n",
    "plt.show()"
   ]
  },
  {
   "cell_type": "code",
   "execution_count": 168,
   "metadata": {
    "collapsed": false
   },
   "outputs": [],
   "source": [
    "plt.figure(figsize=(24,20))\n",
    "plt.scatter(X[X[:,3]<5][:,3], X[X[:,3]<5][:,1], c=Y[X[:,3]<5], alpha=0.2, s=100)\n",
    "plt.show()"
   ]
  },
  {
   "cell_type": "code",
   "execution_count": 169,
   "metadata": {
    "collapsed": false
   },
   "outputs": [],
   "source": [
    "plt.figure(figsize=(24,20))\n",
    "plt.scatter(X[Y>1][:,3], X[Y>1][:,1], c=Y[Y>1], alpha=0.5, s=100)\n",
    "plt.show()"
   ]
  },
  {
   "cell_type": "code",
   "execution_count": 170,
   "metadata": {
    "collapsed": false
   },
   "outputs": [],
   "source": [
    "plt.figure(figsize=(24,20))\n",
    "plt.scatter(X[X[:,3]<5][:,3], X[X[:,3]<5][:,1], c=Y[X[:,3]<5], alpha=0.2, s=100)\n",
    "plt.show()"
   ]
  },
  {
   "cell_type": "code",
   "execution_count": 171,
   "metadata": {
    "collapsed": false
   },
   "outputs": [],
   "source": [
    "plt.figure(figsize=(24,20))\n",
    "plt.scatter(X[:,0], X[:,1], c=Y, alpha=0.5, s=100)\n",
    "plt.show()"
   ]
  },
  {
   "cell_type": "code",
   "execution_count": null,
   "metadata": {
    "collapsed": true
   },
   "outputs": [],
   "source": []
  },
  {
   "cell_type": "code",
   "execution_count": 172,
   "metadata": {
    "collapsed": false
   },
   "outputs": [],
   "source": [
    "plt.figure(figsize=(24,20))\n",
    "plt.scatter(X[:,0], -(X[:,0]*X[:,0]+X[:,1]*X[:,1]), c=Y, alpha=0.2, s=100)\n",
    "plt.show()"
   ]
  },
  {
   "cell_type": "code",
   "execution_count": 173,
   "metadata": {
    "collapsed": false
   },
   "outputs": [],
   "source": [
    "plt.figure(figsize=(24,20))\n",
    "plt.scatter(X[:,0], (X[:,0]*X[:,0]+X[:,1]*X[:,1])**0.5, c=Y, alpha=0.2, s=100)\n",
    "plt.show()"
   ]
  },
  {
   "cell_type": "code",
   "execution_count": null,
   "metadata": {
    "collapsed": true
   },
   "outputs": [],
   "source": [
    "from pandas.plotting import scatter_matrix"
   ]
  },
  {
   "cell_type": "code",
   "execution_count": 174,
   "metadata": {
    "collapsed": false,
    "scrolled": false
   },
   "outputs": [],
   "source": [
    "scatter_matrix(\n",
    "    train_data.clip(-5,5),\n",
    "    alpha=0.5, figsize=(24,24), \n",
    "    diagonal='kde', \n",
    "    c=Y\n",
    ")\n",
    "plt.show()"
   ]
  },
  {
   "cell_type": "code",
   "execution_count": 35,
   "metadata": {
    "collapsed": false
   },
   "outputs": [],
   "source": [
    "kls_01_train = train_data.loc[train_data['y'].isin([0, 1])]"
   ]
  },
  {
   "cell_type": "code",
   "execution_count": null,
   "metadata": {
    "collapsed": false
   },
   "outputs": [],
   "source": []
  },
  {
   "cell_type": "code",
   "execution_count": 105,
   "metadata": {
    "collapsed": true
   },
   "outputs": [],
   "source": [
    "from sklearn.decomposition import PCA"
   ]
  },
  {
   "cell_type": "code",
   "execution_count": 175,
   "metadata": {
    "collapsed": false
   },
   "outputs": [],
   "source": [
    "_X = PCA(n_components=2).fit_transform(X)\n",
    "plt.figure(figsize=(24,20))\n",
    "plt.scatter(_X[:,0], _X[:,1], c=Y, alpha=0.2, s=100)\n",
    "plt.show()"
   ]
  },
  {
   "cell_type": "code",
   "execution_count": 103,
   "metadata": {
    "collapsed": false
   },
   "outputs": [],
   "source": [
    "_X = PCA(n_components=2).fit_transform(X.clip(-5, 5))"
   ]
  },
  {
   "cell_type": "code",
   "execution_count": 151,
   "metadata": {
    "collapsed": true
   },
   "outputs": [],
   "source": [
    "pca  = PCA(n_components=2)"
   ]
  },
  {
   "cell_type": "code",
   "execution_count": 152,
   "metadata": {
    "collapsed": false
   },
   "outputs": [
    {
     "data": {
      "text/plain": [
       "PCA(copy=True, iterated_power='auto', n_components=2, random_state=None,\n",
       "  svd_solver='auto', tol=0.0, whiten=False)"
      ]
     },
     "execution_count": 152,
     "metadata": {},
     "output_type": "execute_result"
    }
   ],
   "source": [
    "pca"
   ]
  },
  {
   "cell_type": "code",
   "execution_count": 154,
   "metadata": {
    "collapsed": false
   },
   "outputs": [
    {
     "data": {
      "text/plain": [
       "PCA(copy=True, iterated_power='auto', n_components=2, random_state=None,\n",
       "  svd_solver='auto', tol=0.0, whiten=False)"
      ]
     },
     "execution_count": 154,
     "metadata": {},
     "output_type": "execute_result"
    }
   ],
   "source": [
    "pca.fit(X.clip(-5, 5))"
   ]
  },
  {
   "cell_type": "code",
   "execution_count": 164,
   "metadata": {
    "collapsed": false
   },
   "outputs": [],
   "source": [
    "_X = pca.transform(X.clip(-5,5))"
   ]
  },
  {
   "cell_type": "code",
   "execution_count": 176,
   "metadata": {
    "collapsed": false
   },
   "outputs": [],
   "source": [
    "plt.figure(figsize=(24,20))\n",
    "plt.scatter(_X[:,0], _X[:,1], c=Y, alpha=0.2, s=100)\n",
    "plt.show()"
   ]
  },
  {
   "cell_type": "code",
   "execution_count": 108,
   "metadata": {
    "collapsed": true
   },
   "outputs": [],
   "source": [
    "from sklearn.manifold import TSNE"
   ]
  },
  {
   "cell_type": "code",
   "execution_count": 109,
   "metadata": {
    "collapsed": true
   },
   "outputs": [],
   "source": [
    "_X = TSNE(n_components=2).fit_transform(X.clip(-5, 5))"
   ]
  },
  {
   "cell_type": "code",
   "execution_count": 177,
   "metadata": {
    "collapsed": false
   },
   "outputs": [],
   "source": [
    "plt.figure(figsize=(24,20))\n",
    "plt.scatter(_X[:,0], _X[:,1], c=Y, alpha=0.2, s=100)\n",
    "plt.show()"
   ]
  },
  {
   "cell_type": "code",
   "execution_count": 111,
   "metadata": {
    "collapsed": true
   },
   "outputs": [],
   "source": [
    "X_tsne = _X"
   ]
  },
  {
   "cell_type": "code",
   "execution_count": 112,
   "metadata": {
    "collapsed": true
   },
   "outputs": [],
   "source": [
    "from sklearn.neighbors import KNeighborsClassifier"
   ]
  },
  {
   "cell_type": "code",
   "execution_count": 129,
   "metadata": {
    "collapsed": false
   },
   "outputs": [],
   "source": [
    "tsne_knn_clf = KNeighborsClassifier(n_neighbors=7)\n",
    "tsne_knn_clf.fit(X_tsne, Y)\n",
    "\n",
    "\n",
    "x_min, x_max = X_tsne[:, 0].min() - 1, X_tsne[:, 0].max() + 1\n",
    "y_min, y_max = X_tsne[:, 1].min() - 1, X_tsne[:, 1].max() + 1"
   ]
  },
  {
   "cell_type": "code",
   "execution_count": 130,
   "metadata": {
    "collapsed": false
   },
   "outputs": [],
   "source": [
    "h = .05\n",
    "xx, yy = np.meshgrid(    \n",
    "\n",
    "    np.arange(y_min, y_max, h),\n",
    "    np.arange(x_min, x_max, h),\n",
    ")\n",
    "Z = tsne_knn_clf.predict(np.c_[xx.ravel(), yy.ravel()])\n",
    "Z = Z.reshape(xx.shape)"
   ]
  },
  {
   "cell_type": "code",
   "execution_count": 178,
   "metadata": {
    "collapsed": false
   },
   "outputs": [],
   "source": [
    "plt.figure(figsize=(15, 15))\n",
    "plt.pcolormesh(xx, yy, Z, cmap=plt.get_cmap('rainbow'))\n",
    "plt.scatter(X_tsne[:,0], X_tsne[:,1], c=Y, s=100, alpha=0.8, cmap='rainbow')\n",
    "plt.xlim(xx.min(), xx.max())\n",
    "plt.ylim(yy.min(), yy.max())\n",
    "plt.show()"
   ]
  },
  {
   "cell_type": "code",
   "execution_count": null,
   "metadata": {
    "collapsed": true
   },
   "outputs": [],
   "source": []
  }
 ],
 "metadata": {
  "kernelspec": {
   "display_name": "Python 3",
   "language": "python",
   "name": "python3"
  },
  "language_info": {
   "codemirror_mode": {
    "name": "ipython",
    "version": 3
   },
   "file_extension": ".py",
   "mimetype": "text/x-python",
   "name": "python",
   "nbconvert_exporter": "python",
   "pygments_lexer": "ipython3",
   "version": "3.6.0b3"
  }
 },
 "nbformat": 4,
 "nbformat_minor": 2
}
