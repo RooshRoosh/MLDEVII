{
 "cells": [
  {
   "cell_type": "code",
   "execution_count": 3,
   "metadata": {
    "collapsed": false,
    "deletable": true,
    "editable": true
   },
   "outputs": [],
   "source": [
    "#Чтобы установить numpy и matplotlib используете pip:\n",
    "\n",
    "#pip install numpy"
   ]
  },
  {
   "cell_type": "code",
   "execution_count": 4,
   "metadata": {
    "collapsed": true,
    "deletable": true,
    "editable": true
   },
   "outputs": [],
   "source": [
    "import numpy as np   # Импортируем numpy\n",
    "# import matplotlib.pyplot as plt"
   ]
  },
  {
   "cell_type": "code",
   "execution_count": 5,
   "metadata": {
    "collapsed": false,
    "deletable": true,
    "editable": true
   },
   "outputs": [
    {
     "name": "stdout",
     "output_type": "stream",
     "text": [
      "id,f1,f2,f3,f4,f5,y\n",
      "\n"
     ]
    }
   ],
   "source": [
    "# Читаем данные из файла и копим их в списках Python\n",
    "X = []\n",
    "Y = []\n",
    "with open('../../../train_simple_reg.csv','r') as f:\n",
    "    print(f.readline())\n",
    "    for line in f:\n",
    "        data = line.split(',')\n",
    "        \n",
    "        _id = int(data[0])\n",
    "        y = float(data[-1])\n",
    "        x = [float(_x) for _x in data[1:-1]]\n",
    "\n",
    "        X.append(x)\n",
    "        Y.append(y)"
   ]
  },
  {
   "cell_type": "code",
   "execution_count": 6,
   "metadata": {
    "collapsed": false,
    "deletable": true,
    "editable": true
   },
   "outputs": [
    {
     "data": {
      "text/plain": [
       "[[0.18070408808882843,\n",
       "  1.5647281060905347,\n",
       "  -0.7094261503649989,\n",
       "  0.2264376541882878,\n",
       "  0.9813525956535327],\n",
       " [0.711181913030938,\n",
       "  1.2371262336838516,\n",
       "  -0.6558950580131298,\n",
       "  1.0605343341336133,\n",
       "  -0.3239311921771363]]"
      ]
     },
     "execution_count": 6,
     "metadata": {},
     "output_type": "execute_result"
    }
   ],
   "source": [
    "X[:2]  # Получаем первые 2 элемента"
   ]
  },
  {
   "cell_type": "code",
   "execution_count": 54,
   "metadata": {
    "collapsed": false,
    "deletable": true,
    "editable": true
   },
   "outputs": [
    {
     "data": {
      "text/plain": [
       "[74.38012788587227, 14.984444617326321]"
      ]
     },
     "execution_count": 54,
     "metadata": {},
     "output_type": "execute_result"
    }
   ],
   "source": [
    "Y[:2]"
   ]
  },
  {
   "cell_type": "code",
   "execution_count": 7,
   "metadata": {
    "collapsed": true,
    "deletable": true,
    "editable": true
   },
   "outputs": [],
   "source": [
    "# Превращаем списки Python в массивы numpy\n",
    "X=np.array(X)\n",
    "Y=np.array(Y)"
   ]
  },
  {
   "cell_type": "code",
   "execution_count": 8,
   "metadata": {
    "collapsed": false,
    "deletable": true,
    "editable": true
   },
   "outputs": [
    {
     "data": {
      "text/plain": [
       "(4000,)"
      ]
     },
     "execution_count": 8,
     "metadata": {},
     "output_type": "execute_result"
    }
   ],
   "source": [
    "Y.shape # Смотрим на размеры массива"
   ]
  },
  {
   "cell_type": "markdown",
   "metadata": {
    "collapsed": true,
    "deletable": true,
    "editable": true
   },
   "source": [
    "# Операции с массивами"
   ]
  },
  {
   "cell_type": "code",
   "execution_count": 13,
   "metadata": {
    "collapsed": false
   },
   "outputs": [
    {
     "name": "stdout",
     "output_type": "stream",
     "text": [
      "-3.887954784790062\n"
     ]
    }
   ],
   "source": [
    "print(X.min())# наименьший элемент по всём наборе данных"
   ]
  },
  {
   "cell_type": "code",
   "execution_count": 16,
   "metadata": {
    "collapsed": false
   },
   "outputs": [
    {
     "name": "stdout",
     "output_type": "stream",
     "text": [
      "[-3.45583396 -3.5471367  -3.75418976 -3.88795478 -3.73277268]\n",
      "(5,)\n"
     ]
    }
   ],
   "source": [
    "print(X.min(axis=0))# наименьшие значения каждого из признаков\n",
    "print(X.min(axis=0).shape)"
   ]
  },
  {
   "cell_type": "code",
   "execution_count": 17,
   "metadata": {
    "collapsed": false
   },
   "outputs": [
    {
     "name": "stdout",
     "output_type": "stream",
     "text": [
      "[-0.70942615 -0.65589506 -1.97575988 ... -1.1156751  -0.83629802\n",
      " -1.817546  ]\n",
      "(4000,)\n"
     ]
    }
   ],
   "source": [
    "print(X.min(axis=1))# наименьшее значение признакая для каждого объекта\n",
    "print(X.min(axis=1).shape)"
   ]
  },
  {
   "cell_type": "markdown",
   "metadata": {},
   "source": [
    "Операции перечисленные выше можно использоваться для того, чтобы отмасштабировать значения признаков – загнать значения каждого из них в интервал от 0 до 1."
   ]
  },
  {
   "cell_type": "code",
   "execution_count": 21,
   "metadata": {
    "collapsed": false,
    "deletable": true,
    "editable": true
   },
   "outputs": [
    {
     "name": "stdout",
     "output_type": "stream",
     "text": [
      "0.0 1.0\n"
     ]
    }
   ],
   "source": [
    "X = (X-X.min(axis=0))/(X.max(axis=0)-X.min(axis=0))\n",
    "print(X.min(), X.max())"
   ]
  },
  {
   "cell_type": "markdown",
   "metadata": {},
   "source": [
    "Взятие элементов по индексу"
   ]
  },
  {
   "cell_type": "code",
   "execution_count": 22,
   "metadata": {
    "collapsed": true,
    "deletable": true,
    "editable": true
   },
   "outputs": [],
   "source": [
    "corncrete_indx = 2  # Зададимся конкретным индексом"
   ]
  },
  {
   "cell_type": "code",
   "execution_count": 23,
   "metadata": {
    "collapsed": false,
    "deletable": true,
    "editable": true
   },
   "outputs": [],
   "source": [
    "obj = X[corncrete_indx]  # извлекаем из массива Х объект с индексом corncrete_indx"
   ]
  },
  {
   "cell_type": "code",
   "execution_count": 25,
   "metadata": {
    "collapsed": false,
    "deletable": true,
    "editable": true
   },
   "outputs": [
    {
     "name": "stdout",
     "output_type": "stream",
     "text": [
      "[   0    1    2 ... 3997 3998 3999]\n"
     ]
    }
   ],
   "source": [
    "indx = np.arange(X.shape[0])  # создаём упорядоченный массив целых чисел длинны X.shape[0]\n",
    "# фактически значения элементов будут равны их индексам в этом массиве\n",
    "print(indx)"
   ]
  },
  {
   "cell_type": "code",
   "execution_count": 27,
   "metadata": {
    "collapsed": false
   },
   "outputs": [
    {
     "data": {
      "text/plain": [
       "array([ True,  True, False, ...,  True,  True,  True])"
      ]
     },
     "execution_count": 27,
     "metadata": {},
     "output_type": "execute_result"
    }
   ],
   "source": [
    "indx!=corncrete_indx   # Мы можем выполнять операции конкретного объекта со всеми элементами массива\n",
    "# Результатом будет массив с результатами такого сравнения"
   ]
  },
  {
   "cell_type": "code",
   "execution_count": 30,
   "metadata": {
    "collapsed": true
   },
   "outputs": [],
   "source": [
    "# Получившийся массив мы можем использовать для индексации\n",
    "# Операция выполняемая ниже позволяет получить нам только те элементы массива indx,\n",
    "# значения которых не равны corncrete_indx\n",
    "distance_indx = indx[indx!=corncrete_indx]"
   ]
  },
  {
   "cell_type": "code",
   "execution_count": 31,
   "metadata": {
    "collapsed": false,
    "deletable": true,
    "editable": true
   },
   "outputs": [
    {
     "data": {
      "text/plain": [
       "array([   0,    1,    3, ..., 3997, 3998, 3999])"
      ]
     },
     "execution_count": 31,
     "metadata": {},
     "output_type": "execute_result"
    }
   ],
   "source": [
    "distance_indx"
   ]
  },
  {
   "cell_type": "code",
   "execution_count": 32,
   "metadata": {
    "collapsed": true
   },
   "outputs": [],
   "source": [
    "# Вычисленияе расстояния по Эвклидовой метрике"
   ]
  },
  {
   "cell_type": "code",
   "execution_count": 33,
   "metadata": {
    "collapsed": true
   },
   "outputs": [],
   "source": [
    "_X = X[indx!=corncrete_indx] # Уберём из массива X все элементы кроме того до которого мы будем вычислять расстояния"
   ]
  },
  {
   "cell_type": "code",
   "execution_count": 35,
   "metadata": {
    "collapsed": false,
    "deletable": true,
    "editable": true
   },
   "outputs": [
    {
     "data": {
      "text/plain": [
       "array([[-0.23065422,  0.40457702, -0.29835268,  0.15492239,  0.39742053],\n",
       "       [-0.16043829,  0.3591541 , -0.29079281,  0.2638906 ,  0.22199718],\n",
       "       [-0.16502548, -0.05736679, -0.31402804, -0.05376534,  0.35398219],\n",
       "       ...,\n",
       "       [-0.13363632,  0.03293162, -0.21745005,  0.14326038,  0.26606857],\n",
       "       [-0.36526824,  0.39097564, -0.15920263,  0.16672692,  0.38737659],\n",
       "       [-0.49514972, -0.02338304,  0.07926406,  0.13504464,  0.37531431]])"
      ]
     },
     "execution_count": 35,
     "metadata": {},
     "output_type": "execute_result"
    }
   ],
   "source": [
    "_X-obj"
   ]
  },
  {
   "cell_type": "code",
   "execution_count": 34,
   "metadata": {
    "collapsed": false,
    "deletable": true,
    "editable": true
   },
   "outputs": [
    {
     "data": {
      "text/plain": [
       "array([[0.05320137, 0.16368256, 0.08901432, 0.02400095, 0.15794308],\n",
       "       [0.02574045, 0.12899167, 0.08456046, 0.06963825, 0.04928275],\n",
       "       [0.02723341, 0.00329095, 0.09861361, 0.00289071, 0.12530339],\n",
       "       ...,\n",
       "       [0.01785866, 0.00108449, 0.04728452, 0.02052354, 0.07079248],\n",
       "       [0.13342089, 0.15286195, 0.02534548, 0.02779787, 0.15006062],\n",
       "       [0.24517324, 0.00054677, 0.00628279, 0.01823705, 0.14086083]])"
      ]
     },
     "execution_count": 34,
     "metadata": {},
     "output_type": "execute_result"
    }
   ],
   "source": [
    "(_X-obj)**2  # Квадраты разностей значений признаков"
   ]
  },
  {
   "cell_type": "code",
   "execution_count": 38,
   "metadata": {
    "collapsed": false,
    "deletable": true,
    "editable": true
   },
   "outputs": [
    {
     "name": "stdout",
     "output_type": "stream",
     "text": [
      "[0.48784229 0.35821357 0.25733207 ... 0.1575437  0.48948681 0.41110068]\n"
     ]
    }
   ],
   "source": [
    "distance_to_obj = np.sum(\n",
    "    (_X-obj)**2, axis=1\n",
    ")  # Сумма квадратов разностей значений признаков\n",
    "print(distance_to_obj)"
   ]
  },
  {
   "cell_type": "code",
   "execution_count": 39,
   "metadata": {
    "collapsed": false,
    "deletable": true,
    "editable": true
   },
   "outputs": [
    {
     "data": {
      "text/plain": [
       "array([2671, 3620,  942, ..., 1199, 1849, 3953])"
      ]
     },
     "execution_count": 39,
     "metadata": {},
     "output_type": "execute_result"
    }
   ],
   "source": [
    "distance_to_obj.argsort()  # индексы объектов отсортированных по возрастанию расстояния до конкретного объекта"
   ]
  },
  {
   "cell_type": "code",
   "execution_count": 40,
   "metadata": {
    "collapsed": false,
    "deletable": true,
    "editable": true
   },
   "outputs": [
    {
     "data": {
      "text/plain": [
       "array([0.02290013, 0.02621452, 0.02764235, ..., 0.91734814, 0.95654404,\n",
       "       1.00650154])"
      ]
     },
     "execution_count": 40,
     "metadata": {},
     "output_type": "execute_result"
    }
   ],
   "source": [
    "distance_to_obj[distance_to_obj.argsort()]  # значения расстояний до ближайших объектов"
   ]
  },
  {
   "cell_type": "code",
   "execution_count": 42,
   "metadata": {
    "collapsed": false,
    "deletable": true,
    "editable": true
   },
   "outputs": [
    {
     "data": {
      "text/plain": [
       "array([[0.43932157, 0.41115207, 0.78295698, 0.65294875, 0.21194237],\n",
       "       [0.44879876, 0.66311588, 0.59412921, 0.59148398, 0.40078099],\n",
       "       [0.35718662, 0.55311207, 0.53348566, 0.45749149, 0.20946876],\n",
       "       ...,\n",
       "       [0.59240077, 0.51385702, 0.56340702, 0.53214213, 0.30533416],\n",
       "       [0.47462647, 0.36257036, 0.37909649, 0.5841064 , 0.47721764],\n",
       "       [0.44724866, 0.32653142, 0.41383422, 0.58876629, 0.50883307]])"
      ]
     },
     "execution_count": 42,
     "metadata": {},
     "output_type": "execute_result"
    }
   ],
   "source": [
    "X[indx[distance_to_obj.argsort()]]  # Значения признаков ближайших объектов"
   ]
  },
  {
   "cell_type": "code",
   "execution_count": 43,
   "metadata": {
    "collapsed": false,
    "deletable": true,
    "editable": true
   },
   "outputs": [
    {
     "data": {
      "text/plain": [
       "array([ -81.99921871,  -19.6009384 , -187.51779037, ..., -100.38786266,\n",
       "         -4.87821962,   19.44832853])"
      ]
     },
     "execution_count": 43,
     "metadata": {},
     "output_type": "execute_result"
    }
   ],
   "source": [
    "Y[indx[distance_to_obj.argsort()]]  # Значения целевой переменной ближайших объектов"
   ]
  },
  {
   "cell_type": "code",
   "execution_count": 44,
   "metadata": {
    "collapsed": false,
    "deletable": true,
    "editable": true
   },
   "outputs": [
    {
     "data": {
      "text/plain": [
       "array([ -81.99921871,  -19.6009384 , -187.51779037,  -84.2587302 ,\n",
       "          4.78287164,   84.98812167,   28.97053757,   44.87845996,\n",
       "         44.39630113,  -71.16287445])"
      ]
     },
     "execution_count": 44,
     "metadata": {},
     "output_type": "execute_result"
    }
   ],
   "source": [
    "Y[indx[distance_to_obj.argsort()]][:10]  # Значения целевой переменной 10 ближайших объектов"
   ]
  },
  {
   "cell_type": "code",
   "execution_count": 45,
   "metadata": {
    "collapsed": false,
    "deletable": true,
    "editable": true
   },
   "outputs": [
    {
     "data": {
      "text/plain": [
       "-175.1298811690295"
      ]
     },
     "execution_count": 45,
     "metadata": {},
     "output_type": "execute_result"
    }
   ],
   "source": [
    "Y[corncrete_indx]  # Значение целевой переменной объекта, до которого мы мерели расстояния"
   ]
  },
  {
   "cell_type": "markdown",
   "metadata": {},
   "source": [
    "### ???????????"
   ]
  },
  {
   "cell_type": "markdown",
   "metadata": {},
   "source": [
    "### PROFIT"
   ]
  },
  {
   "cell_type": "markdown",
   "metadata": {},
   "source": [
    "# Перемножение матриц"
   ]
  },
  {
   "cell_type": "code",
   "execution_count": 60,
   "metadata": {
    "collapsed": true,
    "deletable": true,
    "editable": true
   },
   "outputs": [],
   "source": [
    "W = np.array([5.4, 7.5, 4.1, 32, 36])  "
   ]
  },
  {
   "cell_type": "code",
   "execution_count": 61,
   "metadata": {
    "collapsed": false
   },
   "outputs": [
    {
     "data": {
      "text/plain": [
       "array([49.68640974, 46.92764167, 29.85620533, ..., 42.65281193,\n",
       "       49.44416211, 45.16475021])"
      ]
     },
     "execution_count": 61,
     "metadata": {},
     "output_type": "execute_result"
    }
   ],
   "source": [
    "X.dot(W) # перемножаем исходную матрицу признаков X с \"каким-то\" весами этих признаов W"
   ]
  },
  {
   "cell_type": "code",
   "execution_count": 67,
   "metadata": {
    "collapsed": false,
    "deletable": true,
    "editable": true
   },
   "outputs": [
    {
     "data": {
      "text/plain": [
       "array([-24.69371815,  31.94319706, 204.9860865 , ...,  37.95343447,\n",
       "       -40.85588127, -56.69045748])"
      ]
     },
     "execution_count": 67,
     "metadata": {},
     "output_type": "execute_result"
    }
   ],
   "source": [
    "X.dot(W)-Y  # Считаем разницу с истинным значением"
   ]
  },
  {
   "cell_type": "code",
   "execution_count": 68,
   "metadata": {
    "collapsed": false,
    "deletable": true,
    "editable": true
   },
   "outputs": [
    {
     "data": {
      "text/plain": [
       "array([  609.77971609,  1020.36783815, 42019.29565822, ...,\n",
       "        1440.46318844,  1669.20303412,  3213.80796882])"
      ]
     },
     "execution_count": 68,
     "metadata": {},
     "output_type": "execute_result"
    }
   ],
   "source": [
    "(X.dot(W)-Y)**2  # Считаем квадрат ошибки"
   ]
  },
  {
   "cell_type": "code",
   "execution_count": 69,
   "metadata": {
    "collapsed": false,
    "deletable": true,
    "editable": true
   },
   "outputs": [
    {
     "data": {
      "text/plain": [
       "9627.306859745982"
      ]
     },
     "execution_count": 69,
     "metadata": {},
     "output_type": "execute_result"
    }
   ],
   "source": [
    "((X.dot(W)-Y)**2).mean()# считаем средний квадрат ошибки по всей выборке"
   ]
  },
  {
   "cell_type": "code",
   "execution_count": 70,
   "metadata": {
    "collapsed": false,
    "deletable": true,
    "editable": true
   },
   "outputs": [
    {
     "data": {
      "text/plain": [
       "98.11884049328133"
      ]
     },
     "execution_count": 70,
     "metadata": {},
     "output_type": "execute_result"
    }
   ],
   "source": [
    "((X.dot(W)-Y)**2).mean()**0.5  # Считаем корень из среднеквадратичной ошибки"
   ]
  },
  {
   "cell_type": "code",
   "execution_count": 71,
   "metadata": {
    "collapsed": true,
    "deletable": true,
    "editable": true
   },
   "outputs": [],
   "source": [
    "# Теперь можно повторять операцию подбора параметров до момента успеха"
   ]
  },
  {
   "cell_type": "code",
   "execution_count": 72,
   "metadata": {
    "collapsed": true,
    "deletable": true,
    "editable": true
   },
   "outputs": [],
   "source": [
    "# Внимание, здесь все действия показывались исключительно на тренировочной выборке X,\n",
    "# собранной из файлика train_simple_reg"
   ]
  }
 ],
 "metadata": {
  "kernelspec": {
   "display_name": "Python 3",
   "language": "python",
   "name": "python3"
  },
  "language_info": {
   "codemirror_mode": {
    "name": "ipython",
    "version": 3
   },
   "file_extension": ".py",
   "mimetype": "text/x-python",
   "name": "python",
   "nbconvert_exporter": "python",
   "pygments_lexer": "ipython3",
   "version": "3.6.0b3"
  }
 },
 "nbformat": 4,
 "nbformat_minor": 2
}
